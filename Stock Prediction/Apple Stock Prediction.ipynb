{
 "cells": [
  {
   "cell_type": "markdown",
   "id": "b3267d5b",
   "metadata": {},
   "source": [
    "# WE10- RNN\n",
    "\n",
    "This notebook will predict stock price for apple based on companyt's last 9 days of stock closings"
   ]
  },
  {
   "cell_type": "code",
   "execution_count": 1,
   "id": "65aa9bfb",
   "metadata": {},
   "outputs": [],
   "source": [
    "import tensorflow as tf\n",
    "from tensorflow import keras\n",
    "from sklearn.metrics import mean_squared_error\n",
    "\n",
    "\n",
    "# Common imports\n",
    "import numpy as np\n",
    "import os\n",
    "import pandas as pd\n",
    "\n",
    "# to make this notebook's output stable across runs\n",
    "np.random.seed(1)\n",
    "\n",
    "# To plot pretty figures\n",
    "%matplotlib inline\n",
    "import matplotlib as mpl\n",
    "import matplotlib.pyplot as plt\n",
    "mpl.rc('axes', labelsize=14)\n",
    "mpl.rc('xtick', labelsize=12)\n",
    "mpl.rc('ytick', labelsize=12)"
   ]
  },
  {
   "cell_type": "markdown",
   "id": "f0b91e5c",
   "metadata": {},
   "source": [
    "## Load the data"
   ]
  },
  {
   "cell_type": "code",
   "execution_count": 2,
   "id": "c8f7a21c",
   "metadata": {},
   "outputs": [
    {
     "data": {
      "text/html": [
       "<div>\n",
       "<style scoped>\n",
       "    .dataframe tbody tr th:only-of-type {\n",
       "        vertical-align: middle;\n",
       "    }\n",
       "\n",
       "    .dataframe tbody tr th {\n",
       "        vertical-align: top;\n",
       "    }\n",
       "\n",
       "    .dataframe thead th {\n",
       "        text-align: right;\n",
       "    }\n",
       "</style>\n",
       "<table border=\"1\" class=\"dataframe\">\n",
       "  <thead>\n",
       "    <tr style=\"text-align: right;\">\n",
       "      <th></th>\n",
       "      <th>Date</th>\n",
       "      <th>Open</th>\n",
       "      <th>High</th>\n",
       "      <th>Low</th>\n",
       "      <th>Close</th>\n",
       "      <th>Adj Close</th>\n",
       "      <th>Volume</th>\n",
       "    </tr>\n",
       "  </thead>\n",
       "  <tbody>\n",
       "    <tr>\n",
       "      <th>0</th>\n",
       "      <td>2023-04-11</td>\n",
       "      <td>162.350006</td>\n",
       "      <td>162.360001</td>\n",
       "      <td>160.509995</td>\n",
       "      <td>160.800003</td>\n",
       "      <td>160.800003</td>\n",
       "      <td>47644200</td>\n",
       "    </tr>\n",
       "    <tr>\n",
       "      <th>1</th>\n",
       "      <td>2023-04-12</td>\n",
       "      <td>161.220001</td>\n",
       "      <td>162.059998</td>\n",
       "      <td>159.779999</td>\n",
       "      <td>160.100006</td>\n",
       "      <td>160.100006</td>\n",
       "      <td>50133100</td>\n",
       "    </tr>\n",
       "    <tr>\n",
       "      <th>2</th>\n",
       "      <td>2023-04-13</td>\n",
       "      <td>161.630005</td>\n",
       "      <td>165.800003</td>\n",
       "      <td>161.419998</td>\n",
       "      <td>165.559998</td>\n",
       "      <td>165.559998</td>\n",
       "      <td>68445600</td>\n",
       "    </tr>\n",
       "    <tr>\n",
       "      <th>3</th>\n",
       "      <td>2023-04-14</td>\n",
       "      <td>164.589996</td>\n",
       "      <td>166.320007</td>\n",
       "      <td>163.820007</td>\n",
       "      <td>165.210007</td>\n",
       "      <td>165.210007</td>\n",
       "      <td>49337200</td>\n",
       "    </tr>\n",
       "    <tr>\n",
       "      <th>4</th>\n",
       "      <td>2023-04-17</td>\n",
       "      <td>165.089996</td>\n",
       "      <td>165.389999</td>\n",
       "      <td>164.029999</td>\n",
       "      <td>165.229996</td>\n",
       "      <td>165.229996</td>\n",
       "      <td>41516200</td>\n",
       "    </tr>\n",
       "  </tbody>\n",
       "</table>\n",
       "</div>"
      ],
      "text/plain": [
       "         Date        Open        High         Low       Close   Adj Close  \\\n",
       "0  2023-04-11  162.350006  162.360001  160.509995  160.800003  160.800003   \n",
       "1  2023-04-12  161.220001  162.059998  159.779999  160.100006  160.100006   \n",
       "2  2023-04-13  161.630005  165.800003  161.419998  165.559998  165.559998   \n",
       "3  2023-04-14  164.589996  166.320007  163.820007  165.210007  165.210007   \n",
       "4  2023-04-17  165.089996  165.389999  164.029999  165.229996  165.229996   \n",
       "\n",
       "     Volume  \n",
       "0  47644200  \n",
       "1  50133100  \n",
       "2  68445600  \n",
       "3  49337200  \n",
       "4  41516200  "
      ]
     },
     "execution_count": 2,
     "metadata": {},
     "output_type": "execute_result"
    }
   ],
   "source": [
    "stock = pd.read_csv('AAPL.csv')\n",
    "stock.head()"
   ]
  },
  {
   "cell_type": "markdown",
   "id": "2df37701",
   "metadata": {},
   "source": [
    "### Drop columns that are not required for prediction"
   ]
  },
  {
   "cell_type": "code",
   "execution_count": 3,
   "id": "82fce21a",
   "metadata": {},
   "outputs": [
    {
     "data": {
      "text/html": [
       "<div>\n",
       "<style scoped>\n",
       "    .dataframe tbody tr th:only-of-type {\n",
       "        vertical-align: middle;\n",
       "    }\n",
       "\n",
       "    .dataframe tbody tr th {\n",
       "        vertical-align: top;\n",
       "    }\n",
       "\n",
       "    .dataframe thead th {\n",
       "        text-align: right;\n",
       "    }\n",
       "</style>\n",
       "<table border=\"1\" class=\"dataframe\">\n",
       "  <thead>\n",
       "    <tr style=\"text-align: right;\">\n",
       "      <th></th>\n",
       "      <th>Date</th>\n",
       "      <th>Close</th>\n",
       "    </tr>\n",
       "  </thead>\n",
       "  <tbody>\n",
       "    <tr>\n",
       "      <th>0</th>\n",
       "      <td>2023-04-11</td>\n",
       "      <td>160.800003</td>\n",
       "    </tr>\n",
       "    <tr>\n",
       "      <th>1</th>\n",
       "      <td>2023-04-12</td>\n",
       "      <td>160.100006</td>\n",
       "    </tr>\n",
       "    <tr>\n",
       "      <th>2</th>\n",
       "      <td>2023-04-13</td>\n",
       "      <td>165.559998</td>\n",
       "    </tr>\n",
       "    <tr>\n",
       "      <th>3</th>\n",
       "      <td>2023-04-14</td>\n",
       "      <td>165.210007</td>\n",
       "    </tr>\n",
       "    <tr>\n",
       "      <th>4</th>\n",
       "      <td>2023-04-17</td>\n",
       "      <td>165.229996</td>\n",
       "    </tr>\n",
       "    <tr>\n",
       "      <th>5</th>\n",
       "      <td>2023-04-18</td>\n",
       "      <td>166.470001</td>\n",
       "    </tr>\n",
       "    <tr>\n",
       "      <th>6</th>\n",
       "      <td>2023-04-19</td>\n",
       "      <td>167.630005</td>\n",
       "    </tr>\n",
       "    <tr>\n",
       "      <th>7</th>\n",
       "      <td>2023-04-20</td>\n",
       "      <td>166.649994</td>\n",
       "    </tr>\n",
       "    <tr>\n",
       "      <th>8</th>\n",
       "      <td>2023-04-21</td>\n",
       "      <td>165.020004</td>\n",
       "    </tr>\n",
       "  </tbody>\n",
       "</table>\n",
       "</div>"
      ],
      "text/plain": [
       "         Date       Close\n",
       "0  2023-04-11  160.800003\n",
       "1  2023-04-12  160.100006\n",
       "2  2023-04-13  165.559998\n",
       "3  2023-04-14  165.210007\n",
       "4  2023-04-17  165.229996\n",
       "5  2023-04-18  166.470001\n",
       "6  2023-04-19  167.630005\n",
       "7  2023-04-20  166.649994\n",
       "8  2023-04-21  165.020004"
      ]
     },
     "execution_count": 3,
     "metadata": {},
     "output_type": "execute_result"
    }
   ],
   "source": [
    "stock= stock.drop(['Open','High','Low','Adj Close','Volume'], axis=1)\n",
    "stock"
   ]
  },
  {
   "cell_type": "markdown",
   "id": "c5d13d3e",
   "metadata": {},
   "source": [
    "### Standardize the values"
   ]
  },
  {
   "cell_type": "code",
   "execution_count": 4,
   "id": "58558653",
   "metadata": {},
   "outputs": [],
   "source": [
    "from sklearn.preprocessing import MinMaxScaler\n",
    "scaler = MinMaxScaler()\n",
    "scaled_data = scaler.fit_transform(stock[\"Close\"].values.reshape(-1, 1))"
   ]
  },
  {
   "cell_type": "markdown",
   "id": "a81b26e8",
   "metadata": {},
   "source": [
    "### Splitting the data into test and train"
   ]
  },
  {
   "cell_type": "code",
   "execution_count": 5,
   "id": "b010b17e",
   "metadata": {},
   "outputs": [],
   "source": [
    "split_point = int(len(scaled_data)*0.7)\n",
    "train, test = scaled_data[:split_point], scaled_data[split_point:]"
   ]
  },
  {
   "cell_type": "code",
   "execution_count": 6,
   "id": "864dedbf",
   "metadata": {},
   "outputs": [
    {
     "data": {
      "text/plain": [
       "(6, 1)"
      ]
     },
     "execution_count": 6,
     "metadata": {},
     "output_type": "execute_result"
    }
   ],
   "source": [
    "train.shape"
   ]
  },
  {
   "cell_type": "code",
   "execution_count": 7,
   "id": "e137addd",
   "metadata": {},
   "outputs": [
    {
     "data": {
      "text/plain": [
       "array([[0.0929611],\n",
       "       [0.       ]])"
      ]
     },
     "execution_count": 7,
     "metadata": {},
     "output_type": "execute_result"
    }
   ],
   "source": [
    "train[:2]"
   ]
  },
  {
   "cell_type": "code",
   "execution_count": 8,
   "id": "f53fdbc9",
   "metadata": {},
   "outputs": [
    {
     "data": {
      "text/plain": [
       "(3, 1)"
      ]
     },
     "execution_count": 8,
     "metadata": {},
     "output_type": "execute_result"
    }
   ],
   "source": [
    "test.shape"
   ]
  },
  {
   "cell_type": "code",
   "execution_count": 9,
   "id": "c2223706",
   "metadata": {},
   "outputs": [
    {
     "data": {
      "text/plain": [
       "array([[1.        ],\n",
       "       [0.86985244]])"
      ]
     },
     "execution_count": 9,
     "metadata": {},
     "output_type": "execute_result"
    }
   ],
   "source": [
    "test[:2]"
   ]
  },
  {
   "cell_type": "code",
   "execution_count": 10,
   "id": "4b1f9b21",
   "metadata": {},
   "outputs": [
    {
     "data": {
      "text/html": [
       "<div>\n",
       "<style scoped>\n",
       "    .dataframe tbody tr th:only-of-type {\n",
       "        vertical-align: middle;\n",
       "    }\n",
       "\n",
       "    .dataframe tbody tr th {\n",
       "        vertical-align: top;\n",
       "    }\n",
       "\n",
       "    .dataframe thead th {\n",
       "        text-align: right;\n",
       "    }\n",
       "</style>\n",
       "<table border=\"1\" class=\"dataframe\">\n",
       "  <thead>\n",
       "    <tr style=\"text-align: right;\">\n",
       "      <th></th>\n",
       "      <th>0</th>\n",
       "    </tr>\n",
       "  </thead>\n",
       "  <tbody>\n",
       "    <tr>\n",
       "      <th>0</th>\n",
       "      <td>0.092961</td>\n",
       "    </tr>\n",
       "    <tr>\n",
       "      <th>1</th>\n",
       "      <td>0.000000</td>\n",
       "    </tr>\n",
       "    <tr>\n",
       "      <th>2</th>\n",
       "      <td>0.725099</td>\n",
       "    </tr>\n",
       "    <tr>\n",
       "      <th>3</th>\n",
       "      <td>0.678619</td>\n",
       "    </tr>\n",
       "    <tr>\n",
       "      <th>4</th>\n",
       "      <td>0.681274</td>\n",
       "    </tr>\n",
       "    <tr>\n",
       "      <th>5</th>\n",
       "      <td>0.845949</td>\n",
       "    </tr>\n",
       "  </tbody>\n",
       "</table>\n",
       "</div>"
      ],
      "text/plain": [
       "          0\n",
       "0  0.092961\n",
       "1  0.000000\n",
       "2  0.725099\n",
       "3  0.678619\n",
       "4  0.681274\n",
       "5  0.845949"
      ]
     },
     "execution_count": 10,
     "metadata": {},
     "output_type": "execute_result"
    }
   ],
   "source": [
    "# Create a new sample by selecting the last 9 days from the training data\n",
    "train_inputs = train[-9:]\n",
    "pd.DataFrame(train_inputs, columns=np.arange(0, 1, 1))"
   ]
  },
  {
   "cell_type": "code",
   "execution_count": 11,
   "id": "4fbd5da9",
   "metadata": {},
   "outputs": [
    {
     "data": {
      "text/plain": [
       "array([[0.0929611 ],\n",
       "       [0.        ],\n",
       "       [0.72509864],\n",
       "       [0.67861908],\n",
       "       [0.68127366],\n",
       "       [0.84594898]])"
      ]
     },
     "execution_count": 11,
     "metadata": {},
     "output_type": "execute_result"
    }
   ],
   "source": [
    "train_inputs"
   ]
  },
  {
   "cell_type": "code",
   "execution_count": 12,
   "id": "f728cda4",
   "metadata": {},
   "outputs": [
    {
     "data": {
      "text/plain": [
       "(6, 1)"
      ]
     },
     "execution_count": 12,
     "metadata": {},
     "output_type": "execute_result"
    }
   ],
   "source": [
    "train_inputs.shape "
   ]
  },
  {
   "cell_type": "code",
   "execution_count": 13,
   "id": "d20aa10e",
   "metadata": {},
   "outputs": [
    {
     "data": {
      "text/plain": [
       "(6, 1, 1)"
      ]
     },
     "execution_count": 13,
     "metadata": {},
     "output_type": "execute_result"
    }
   ],
   "source": [
    "#Create an additional dimension for train\n",
    "\n",
    "train_x = train_inputs[:,:,np.newaxis]\n",
    "\n",
    "train_x.shape "
   ]
  },
  {
   "cell_type": "code",
   "execution_count": 14,
   "id": "760ed640",
   "metadata": {},
   "outputs": [
    {
     "data": {
      "text/plain": [
       "array([[[0.0929611 ]],\n",
       "\n",
       "       [[0.        ]],\n",
       "\n",
       "       [[0.72509864]],\n",
       "\n",
       "       [[0.67861908]],\n",
       "\n",
       "       [[0.68127366]],\n",
       "\n",
       "       [[0.84594898]]])"
      ]
     },
     "execution_count": 14,
     "metadata": {},
     "output_type": "execute_result"
    }
   ],
   "source": [
    "train_x"
   ]
  },
  {
   "cell_type": "code",
   "execution_count": 15,
   "id": "1c6c0a23",
   "metadata": {},
   "outputs": [
    {
     "data": {
      "text/html": [
       "<div>\n",
       "<style scoped>\n",
       "    .dataframe tbody tr th:only-of-type {\n",
       "        vertical-align: middle;\n",
       "    }\n",
       "\n",
       "    .dataframe tbody tr th {\n",
       "        vertical-align: top;\n",
       "    }\n",
       "\n",
       "    .dataframe thead th {\n",
       "        text-align: right;\n",
       "    }\n",
       "</style>\n",
       "<table border=\"1\" class=\"dataframe\">\n",
       "  <thead>\n",
       "    <tr style=\"text-align: right;\">\n",
       "      <th></th>\n",
       "      <th>1</th>\n",
       "    </tr>\n",
       "  </thead>\n",
       "  <tbody>\n",
       "    <tr>\n",
       "      <th>0</th>\n",
       "      <td>0.092961</td>\n",
       "    </tr>\n",
       "    <tr>\n",
       "      <th>1</th>\n",
       "      <td>0.000000</td>\n",
       "    </tr>\n",
       "    <tr>\n",
       "      <th>2</th>\n",
       "      <td>0.725099</td>\n",
       "    </tr>\n",
       "    <tr>\n",
       "      <th>3</th>\n",
       "      <td>0.678619</td>\n",
       "    </tr>\n",
       "    <tr>\n",
       "      <th>4</th>\n",
       "      <td>0.681274</td>\n",
       "    </tr>\n",
       "    <tr>\n",
       "      <th>5</th>\n",
       "      <td>0.845949</td>\n",
       "    </tr>\n",
       "  </tbody>\n",
       "</table>\n",
       "</div>"
      ],
      "text/plain": [
       "          1\n",
       "0  0.092961\n",
       "1  0.000000\n",
       "2  0.725099\n",
       "3  0.678619\n",
       "4  0.681274\n",
       "5  0.845949"
      ]
     },
     "execution_count": 15,
     "metadata": {},
     "output_type": "execute_result"
    }
   ],
   "source": [
    "# The last column is TARGET\n",
    "\n",
    "train_target = train[:,-1]\n",
    "\n",
    "\n",
    "pd.DataFrame(train_target, columns=['1'])"
   ]
  },
  {
   "cell_type": "code",
   "execution_count": 16,
   "id": "ea8ecfc7",
   "metadata": {},
   "outputs": [
    {
     "data": {
      "text/plain": [
       "(6,)"
      ]
     },
     "execution_count": 16,
     "metadata": {},
     "output_type": "execute_result"
    }
   ],
   "source": [
    "train_target.shape"
   ]
  },
  {
   "cell_type": "code",
   "execution_count": 17,
   "id": "dce63908",
   "metadata": {},
   "outputs": [
    {
     "data": {
      "text/plain": [
       "(3, 1)"
      ]
     },
     "execution_count": 17,
     "metadata": {},
     "output_type": "execute_result"
    }
   ],
   "source": [
    "test.shape"
   ]
  },
  {
   "cell_type": "code",
   "execution_count": 18,
   "id": "6c3d13e1",
   "metadata": {},
   "outputs": [],
   "source": [
    "test_inputs = test[:,:1]"
   ]
  },
  {
   "cell_type": "code",
   "execution_count": 19,
   "id": "b02d9df3",
   "metadata": {},
   "outputs": [
    {
     "data": {
      "text/plain": [
       "(3, 1, 1)"
      ]
     },
     "execution_count": 19,
     "metadata": {},
     "output_type": "execute_result"
    }
   ],
   "source": [
    "#Create an additional dimension for test\n",
    "\n",
    "test_x = test_inputs[:,:,np.newaxis]\n",
    "\n",
    "test_x.shape"
   ]
  },
  {
   "cell_type": "code",
   "execution_count": 20,
   "id": "360448f6",
   "metadata": {},
   "outputs": [
    {
     "data": {
      "text/html": [
       "<div>\n",
       "<style scoped>\n",
       "    .dataframe tbody tr th:only-of-type {\n",
       "        vertical-align: middle;\n",
       "    }\n",
       "\n",
       "    .dataframe tbody tr th {\n",
       "        vertical-align: top;\n",
       "    }\n",
       "\n",
       "    .dataframe thead th {\n",
       "        text-align: right;\n",
       "    }\n",
       "</style>\n",
       "<table border=\"1\" class=\"dataframe\">\n",
       "  <thead>\n",
       "    <tr style=\"text-align: right;\">\n",
       "      <th></th>\n",
       "      <th>1</th>\n",
       "    </tr>\n",
       "  </thead>\n",
       "  <tbody>\n",
       "    <tr>\n",
       "      <th>0</th>\n",
       "      <td>1.000000</td>\n",
       "    </tr>\n",
       "    <tr>\n",
       "      <th>1</th>\n",
       "      <td>0.869852</td>\n",
       "    </tr>\n",
       "    <tr>\n",
       "      <th>2</th>\n",
       "      <td>0.653386</td>\n",
       "    </tr>\n",
       "  </tbody>\n",
       "</table>\n",
       "</div>"
      ],
      "text/plain": [
       "          1\n",
       "0  1.000000\n",
       "1  0.869852\n",
       "2  0.653386"
      ]
     },
     "execution_count": 20,
     "metadata": {},
     "output_type": "execute_result"
    }
   ],
   "source": [
    "# The last column is TARGET\n",
    "\n",
    "test_target = test[:,-1]\n",
    "\n",
    "\n",
    "pd.DataFrame(test_target, columns=['1'])"
   ]
  },
  {
   "cell_type": "code",
   "execution_count": 21,
   "id": "93ee6b38",
   "metadata": {},
   "outputs": [
    {
     "data": {
      "text/plain": [
       "(3,)"
      ]
     },
     "execution_count": 21,
     "metadata": {},
     "output_type": "execute_result"
    }
   ],
   "source": [
    "test_target.shape"
   ]
  },
  {
   "cell_type": "markdown",
   "id": "03d71e55",
   "metadata": {},
   "source": [
    "### Simple RNN"
   ]
  },
  {
   "cell_type": "code",
   "execution_count": 22,
   "id": "3aac7a94",
   "metadata": {},
   "outputs": [],
   "source": [
    "model = keras.models.Sequential([\n",
    "    keras.layers.SimpleRNN(32, activation='relu', input_shape=[1, 1]),\n",
    "    keras.layers.Dense(1, activation=None)\n",
    "])"
   ]
  },
  {
   "cell_type": "code",
   "execution_count": 23,
   "id": "d0685a83",
   "metadata": {},
   "outputs": [
    {
     "name": "stdout",
     "output_type": "stream",
     "text": [
      "Epoch 1/30\n",
      "1/1 [==============================] - 3s 3s/step - loss: 0.4570\n",
      "Epoch 2/30\n",
      "1/1 [==============================] - 0s 8ms/step - loss: 0.4447\n",
      "Epoch 3/30\n",
      "1/1 [==============================] - 0s 10ms/step - loss: 0.4325\n",
      "Epoch 4/30\n",
      "1/1 [==============================] - 0s 10ms/step - loss: 0.4206\n",
      "Epoch 5/30\n",
      "1/1 [==============================] - 0s 7ms/step - loss: 0.4089\n",
      "Epoch 6/30\n",
      "1/1 [==============================] - 0s 4ms/step - loss: 0.3973\n",
      "Epoch 7/30\n",
      "1/1 [==============================] - 0s 6ms/step - loss: 0.3860\n",
      "Epoch 8/30\n",
      "1/1 [==============================] - 0s 11ms/step - loss: 0.3749\n",
      "Epoch 9/30\n",
      "1/1 [==============================] - 0s 14ms/step - loss: 0.3639\n",
      "Epoch 10/30\n",
      "1/1 [==============================] - 0s 8ms/step - loss: 0.3532\n",
      "Epoch 11/30\n",
      "1/1 [==============================] - 0s 16ms/step - loss: 0.3426\n",
      "Epoch 12/30\n",
      "1/1 [==============================] - 0s 8ms/step - loss: 0.3323\n",
      "Epoch 13/30\n",
      "1/1 [==============================] - 0s 9ms/step - loss: 0.3221\n",
      "Epoch 14/30\n",
      "1/1 [==============================] - 0s 16ms/step - loss: 0.3124\n",
      "Epoch 15/30\n",
      "1/1 [==============================] - 0s 7ms/step - loss: 0.3031\n",
      "Epoch 16/30\n",
      "1/1 [==============================] - 0s 15ms/step - loss: 0.2940\n",
      "Epoch 17/30\n",
      "1/1 [==============================] - 0s 8ms/step - loss: 0.2852\n",
      "Epoch 18/30\n",
      "1/1 [==============================] - 0s 11ms/step - loss: 0.2766\n",
      "Epoch 19/30\n",
      "1/1 [==============================] - 0s 14ms/step - loss: 0.2682\n",
      "Epoch 20/30\n",
      "1/1 [==============================] - 0s 7ms/step - loss: 0.2599\n",
      "Epoch 21/30\n",
      "1/1 [==============================] - 0s 9ms/step - loss: 0.2518\n",
      "Epoch 22/30\n",
      "1/1 [==============================] - 0s 7ms/step - loss: 0.2439\n",
      "Epoch 23/30\n",
      "1/1 [==============================] - 0s 9ms/step - loss: 0.2361\n",
      "Epoch 24/30\n",
      "1/1 [==============================] - 0s 9ms/step - loss: 0.2285\n",
      "Epoch 25/30\n",
      "1/1 [==============================] - 0s 7ms/step - loss: 0.2212\n",
      "Epoch 26/30\n",
      "1/1 [==============================] - 0s 7ms/step - loss: 0.2143\n",
      "Epoch 27/30\n",
      "1/1 [==============================] - 0s 8ms/step - loss: 0.2075\n",
      "Epoch 28/30\n",
      "1/1 [==============================] - 0s 8ms/step - loss: 0.2009\n",
      "Epoch 29/30\n",
      "1/1 [==============================] - 0s 8ms/step - loss: 0.1945\n",
      "Epoch 30/30\n",
      "1/1 [==============================] - 0s 10ms/step - loss: 0.1883\n"
     ]
    }
   ],
   "source": [
    "np.random.seed(1)\n",
    "tf.random.set_seed(1)\n",
    "\n",
    "model.compile(loss=\"mse\", optimizer='Adam')\n",
    "\n",
    "history = model.fit(train_x, train_target, epochs=30)"
   ]
  },
  {
   "cell_type": "markdown",
   "id": "c5e1d673",
   "metadata": {},
   "source": [
    "#### Prediction"
   ]
  },
  {
   "cell_type": "code",
   "execution_count": 24,
   "id": "cdceec29",
   "metadata": {},
   "outputs": [
    {
     "name": "stdout",
     "output_type": "stream",
     "text": [
      "1/1 [==============================] - 1s 657ms/step\n"
     ]
    }
   ],
   "source": [
    "#Predict:\n",
    "y_pred = model.predict(test_x)"
   ]
  },
  {
   "cell_type": "code",
   "execution_count": 25,
   "id": "4f72fcca",
   "metadata": {},
   "outputs": [
    {
     "data": {
      "text/html": [
       "<div>\n",
       "<style scoped>\n",
       "    .dataframe tbody tr th:only-of-type {\n",
       "        vertical-align: middle;\n",
       "    }\n",
       "\n",
       "    .dataframe tbody tr th {\n",
       "        vertical-align: top;\n",
       "    }\n",
       "\n",
       "    .dataframe thead th {\n",
       "        text-align: right;\n",
       "    }\n",
       "</style>\n",
       "<table border=\"1\" class=\"dataframe\">\n",
       "  <thead>\n",
       "    <tr style=\"text-align: right;\">\n",
       "      <th></th>\n",
       "      <th>actual</th>\n",
       "      <th>predicted</th>\n",
       "    </tr>\n",
       "  </thead>\n",
       "  <tbody>\n",
       "    <tr>\n",
       "      <th>0</th>\n",
       "      <td>167.630005</td>\n",
       "      <td>161.937164</td>\n",
       "    </tr>\n",
       "    <tr>\n",
       "      <th>1</th>\n",
       "      <td>166.649994</td>\n",
       "      <td>161.834137</td>\n",
       "    </tr>\n",
       "    <tr>\n",
       "      <th>2</th>\n",
       "      <td>165.020004</td>\n",
       "      <td>161.659683</td>\n",
       "    </tr>\n",
       "  </tbody>\n",
       "</table>\n",
       "</div>"
      ],
      "text/plain": [
       "       actual   predicted\n",
       "0  167.630005  161.937164\n",
       "1  166.649994  161.834137\n",
       "2  165.020004  161.659683"
      ]
     },
     "execution_count": 25,
     "metadata": {},
     "output_type": "execute_result"
    }
   ],
   "source": [
    "comparison = pd.DataFrame()\n",
    "\n",
    "comparison['actual'] = scaler.inverse_transform([test_target]).flatten()\n",
    "comparison['predicted'] = scaler.inverse_transform(y_pred).flatten()\n",
    "comparison"
   ]
  },
  {
   "cell_type": "code",
   "execution_count": 26,
   "id": "d40dfd5e",
   "metadata": {},
   "outputs": [
    {
     "data": {
      "text/plain": [
       "22.297556618558954"
      ]
     },
     "execution_count": 26,
     "metadata": {},
     "output_type": "execute_result"
    }
   ],
   "source": [
    "mean_squared_error(comparison['actual'], comparison['predicted'])"
   ]
  },
  {
   "cell_type": "code",
   "execution_count": 27,
   "id": "c3486893",
   "metadata": {},
   "outputs": [
    {
     "data": {
      "image/png": "[encoded data removed]",
      "text/plain": [
       "<Figure size 640x480 with 1 Axes>"
      ]
     },
     "metadata": {},
     "output_type": "display_data"
    }
   ],
   "source": [
    "plt.plot(comparison['actual'], label = 'actual')\n",
    "plt.plot(comparison['predicted'], label = 'predicted')\n",
    "\n",
    "plt.legend()\n",
    "\n",
    "plt.show()"
   ]
  },
  {
   "cell_type": "markdown",
   "id": "f0f8e628",
   "metadata": {},
   "source": [
    "# LSTM with one layer"
   ]
  },
  {
   "cell_type": "code",
   "execution_count": 28,
   "id": "0c62037c",
   "metadata": {},
   "outputs": [],
   "source": [
    "model = keras.models.Sequential([\n",
    "    keras.layers.LSTM(32, activation='relu', input_shape=[1, 1]),\n",
    "    keras.layers.Dense(1, activation=None)\n",
    "])"
   ]
  },
  {
   "cell_type": "code",
   "execution_count": 29,
   "id": "4a3df3c0",
   "metadata": {},
   "outputs": [
    {
     "name": "stdout",
     "output_type": "stream",
     "text": [
      "Epoch 1/30\n",
      "1/1 [==============================] - 4s 4s/step - loss: 0.3997\n",
      "Epoch 2/30\n",
      "1/1 [==============================] - 0s 8ms/step - loss: 0.3961\n",
      "Epoch 3/30\n",
      "1/1 [==============================] - 0s 9ms/step - loss: 0.3924\n",
      "Epoch 4/30\n",
      "1/1 [==============================] - 0s 17ms/step - loss: 0.3888\n",
      "Epoch 5/30\n",
      "1/1 [==============================] - 0s 11ms/step - loss: 0.3852\n",
      "Epoch 6/30\n",
      "1/1 [==============================] - 0s 9ms/step - loss: 0.3817\n",
      "Epoch 7/30\n",
      "1/1 [==============================] - 0s 13ms/step - loss: 0.3781\n",
      "Epoch 8/30\n",
      "1/1 [==============================] - 0s 13ms/step - loss: 0.3746\n",
      "Epoch 9/30\n",
      "1/1 [==============================] - 0s 9ms/step - loss: 0.3711\n",
      "Epoch 10/30\n",
      "1/1 [==============================] - 0s 16ms/step - loss: 0.3676\n",
      "Epoch 11/30\n",
      "1/1 [==============================] - 0s 9ms/step - loss: 0.3642\n",
      "Epoch 12/30\n",
      "1/1 [==============================] - 0s 16ms/step - loss: 0.3609\n",
      "Epoch 13/30\n",
      "1/1 [==============================] - 0s 8ms/step - loss: 0.3577\n",
      "Epoch 14/30\n",
      "1/1 [==============================] - 0s 14ms/step - loss: 0.3544\n",
      "Epoch 15/30\n",
      "1/1 [==============================] - 0s 13ms/step - loss: 0.3512\n",
      "Epoch 16/30\n",
      "1/1 [==============================] - 0s 9ms/step - loss: 0.3480\n",
      "Epoch 17/30\n",
      "1/1 [==============================] - 0s 8ms/step - loss: 0.3449\n",
      "Epoch 18/30\n",
      "1/1 [==============================] - 0s 14ms/step - loss: 0.3417\n",
      "Epoch 19/30\n",
      "1/1 [==============================] - 0s 10ms/step - loss: 0.3386\n",
      "Epoch 20/30\n",
      "1/1 [==============================] - 0s 9ms/step - loss: 0.3355\n",
      "Epoch 21/30\n",
      "1/1 [==============================] - 0s 11ms/step - loss: 0.3324\n",
      "Epoch 22/30\n",
      "1/1 [==============================] - 0s 8ms/step - loss: 0.3293\n",
      "Epoch 23/30\n",
      "1/1 [==============================] - 0s 8ms/step - loss: 0.3263\n",
      "Epoch 24/30\n",
      "1/1 [==============================] - 0s 9ms/step - loss: 0.3233\n",
      "Epoch 25/30\n",
      "1/1 [==============================] - 0s 7ms/step - loss: 0.3203\n",
      "Epoch 26/30\n",
      "1/1 [==============================] - 0s 9ms/step - loss: 0.3173\n",
      "Epoch 27/30\n",
      "1/1 [==============================] - 0s 11ms/step - loss: 0.3143\n",
      "Epoch 28/30\n",
      "1/1 [==============================] - 0s 8ms/step - loss: 0.3114\n",
      "Epoch 29/30\n",
      "1/1 [==============================] - 0s 9ms/step - loss: 0.3084\n",
      "Epoch 30/30\n",
      "1/1 [==============================] - 0s 12ms/step - loss: 0.3055\n"
     ]
    }
   ],
   "source": [
    "np.random.seed(1)\n",
    "tf.random.set_seed(1)\n",
    "\n",
    "model.compile(loss=\"mse\", optimizer='Adam')\n",
    "\n",
    "history = model.fit(train_x, train_target, epochs=30)"
   ]
  },
  {
   "cell_type": "code",
   "execution_count": 30,
   "id": "8e57592f",
   "metadata": {},
   "outputs": [
    {
     "name": "stdout",
     "output_type": "stream",
     "text": [
      "1/1 [==============================] - 1s 545ms/step\n"
     ]
    }
   ],
   "source": [
    "#Predict:\n",
    "y_pred = model.predict(test_x)\n"
   ]
  },
  {
   "cell_type": "code",
   "execution_count": 31,
   "id": "b604b781",
   "metadata": {},
   "outputs": [
    {
     "data": {
      "text/html": [
       "<div>\n",
       "<style scoped>\n",
       "    .dataframe tbody tr th:only-of-type {\n",
       "        vertical-align: middle;\n",
       "    }\n",
       "\n",
       "    .dataframe tbody tr th {\n",
       "        vertical-align: top;\n",
       "    }\n",
       "\n",
       "    .dataframe thead th {\n",
       "        text-align: right;\n",
       "    }\n",
       "</style>\n",
       "<table border=\"1\" class=\"dataframe\">\n",
       "  <thead>\n",
       "    <tr style=\"text-align: right;\">\n",
       "      <th></th>\n",
       "      <th>actual</th>\n",
       "      <th>predicted</th>\n",
       "    </tr>\n",
       "  </thead>\n",
       "  <tbody>\n",
       "    <tr>\n",
       "      <th>0</th>\n",
       "      <td>167.630005</td>\n",
       "      <td>160.581390</td>\n",
       "    </tr>\n",
       "    <tr>\n",
       "      <th>1</th>\n",
       "      <td>166.649994</td>\n",
       "      <td>160.578735</td>\n",
       "    </tr>\n",
       "    <tr>\n",
       "      <th>2</th>\n",
       "      <td>165.020004</td>\n",
       "      <td>160.573425</td>\n",
       "    </tr>\n",
       "  </tbody>\n",
       "</table>\n",
       "</div>"
      ],
      "text/plain": [
       "       actual   predicted\n",
       "0  167.630005  160.581390\n",
       "1  166.649994  160.578735\n",
       "2  165.020004  160.573425"
      ]
     },
     "execution_count": 31,
     "metadata": {},
     "output_type": "execute_result"
    }
   ],
   "source": [
    "\n",
    "comparison = pd.DataFrame()\n",
    "\n",
    "comparison['actual'] = scaler.inverse_transform([test_target]).flatten()\n",
    "comparison['predicted'] = scaler.inverse_transform(y_pred).flatten()\n",
    "comparison"
   ]
  },
  {
   "cell_type": "code",
   "execution_count": 32,
   "id": "a8c32467",
   "metadata": {},
   "outputs": [
    {
     "data": {
      "text/plain": [
       "35.43840394107128"
      ]
     },
     "execution_count": 32,
     "metadata": {},
     "output_type": "execute_result"
    }
   ],
   "source": [
    "mean_squared_error(comparison['actual'], comparison['predicted'])"
   ]
  },
  {
   "cell_type": "code",
   "execution_count": 33,
   "id": "4525fa5b",
   "metadata": {},
   "outputs": [
    {
     "data": {
      "image/png": "[encoded data removed]",
      "text/plain": [
       "<Figure size 640x480 with 1 Axes>"
      ]
     },
     "metadata": {},
     "output_type": "display_data"
    }
   ],
   "source": [
    "plt.plot(comparison['actual'], label = 'actual')\n",
    "plt.plot(comparison['predicted'], label = 'predicted')\n",
    "\n",
    "plt.legend()\n",
    "\n",
    "plt.show()"
   ]
  },
  {
   "cell_type": "markdown",
   "id": "5d448949",
   "metadata": {},
   "source": [
    "# GRU"
   ]
  },
  {
   "cell_type": "code",
   "execution_count": 34,
   "id": "b254ba71",
   "metadata": {},
   "outputs": [],
   "source": [
    "model = keras.models.Sequential([\n",
    "    keras.layers.GRU(32, activation='relu', return_sequences=True, input_shape=[1, 1]),\n",
    "    keras.layers.GRU(32, activation='relu', return_sequences=False),\n",
    "    keras.layers.Dense(1, activation=None)\n",
    "])"
   ]
  },
  {
   "cell_type": "code",
   "execution_count": 35,
   "id": "aa86a15f",
   "metadata": {},
   "outputs": [
    {
     "name": "stdout",
     "output_type": "stream",
     "text": [
      "Epoch 1/30\n",
      "1/1 [==============================] - 10s 10s/step - loss: 0.3638\n",
      "Epoch 2/30\n",
      "1/1 [==============================] - 0s 8ms/step - loss: 0.3490\n",
      "Epoch 3/30\n",
      "1/1 [==============================] - 0s 12ms/step - loss: 0.3387\n",
      "Epoch 4/30\n",
      "1/1 [==============================] - 0s 5ms/step - loss: 0.3298\n",
      "Epoch 5/30\n",
      "1/1 [==============================] - 0s 9ms/step - loss: 0.3220\n",
      "Epoch 6/30\n",
      "1/1 [==============================] - 0s 10ms/step - loss: 0.3155\n",
      "Epoch 7/30\n",
      "1/1 [==============================] - 0s 14ms/step - loss: 0.3096\n",
      "Epoch 8/30\n",
      "1/1 [==============================] - 0s 12ms/step - loss: 0.3042\n",
      "Epoch 9/30\n",
      "1/1 [==============================] - 0s 17ms/step - loss: 0.2990\n",
      "Epoch 10/30\n",
      "1/1 [==============================] - 0s 13ms/step - loss: 0.2940\n",
      "Epoch 11/30\n",
      "1/1 [==============================] - 0s 15ms/step - loss: 0.2891\n",
      "Epoch 12/30\n",
      "1/1 [==============================] - 0s 13ms/step - loss: 0.2843\n",
      "Epoch 13/30\n",
      "1/1 [==============================] - 0s 17ms/step - loss: 0.2795\n",
      "Epoch 14/30\n",
      "1/1 [==============================] - 0s 9ms/step - loss: 0.2749\n",
      "Epoch 15/30\n",
      "1/1 [==============================] - 0s 13ms/step - loss: 0.2704\n",
      "Epoch 16/30\n",
      "1/1 [==============================] - 0s 8ms/step - loss: 0.2659\n",
      "Epoch 17/30\n",
      "1/1 [==============================] - 0s 8ms/step - loss: 0.2614\n",
      "Epoch 18/30\n",
      "1/1 [==============================] - 0s 11ms/step - loss: 0.2569\n",
      "Epoch 19/30\n",
      "1/1 [==============================] - 0s 9ms/step - loss: 0.2524\n",
      "Epoch 20/30\n",
      "1/1 [==============================] - 0s 9ms/step - loss: 0.2479\n",
      "Epoch 21/30\n",
      "1/1 [==============================] - 0s 13ms/step - loss: 0.2434\n",
      "Epoch 22/30\n",
      "1/1 [==============================] - 0s 16ms/step - loss: 0.2388\n",
      "Epoch 23/30\n",
      "1/1 [==============================] - 0s 16ms/step - loss: 0.2343\n",
      "Epoch 24/30\n",
      "1/1 [==============================] - 0s 13ms/step - loss: 0.2297\n",
      "Epoch 25/30\n",
      "1/1 [==============================] - 0s 5ms/step - loss: 0.2252\n",
      "Epoch 26/30\n",
      "1/1 [==============================] - 0s 10ms/step - loss: 0.2206\n",
      "Epoch 27/30\n",
      "1/1 [==============================] - 0s 13ms/step - loss: 0.2160\n",
      "Epoch 28/30\n",
      "1/1 [==============================] - 0s 12ms/step - loss: 0.2115\n",
      "Epoch 29/30\n",
      "1/1 [==============================] - 0s 15ms/step - loss: 0.2069\n",
      "Epoch 30/30\n",
      "1/1 [==============================] - 0s 11ms/step - loss: 0.2023\n"
     ]
    }
   ],
   "source": [
    "np.random.seed(1)\n",
    "tf.random.set_seed(1)\n",
    "\n",
    "model.compile(loss=\"mse\", optimizer='RMSprop')\n",
    "\n",
    "history = model.fit(train_x, train_target, epochs=30)"
   ]
  },
  {
   "cell_type": "code",
   "execution_count": 36,
   "id": "caf0f723",
   "metadata": {},
   "outputs": [
    {
     "name": "stdout",
     "output_type": "stream",
     "text": [
      "1/1 [==============================] - 1s 1s/step\n"
     ]
    }
   ],
   "source": [
    "#Predict:\n",
    "y_pred = model.predict(test_x)"
   ]
  },
  {
   "cell_type": "code",
   "execution_count": 37,
   "id": "c021d6fb",
   "metadata": {},
   "outputs": [
    {
     "data": {
      "text/html": [
       "<div>\n",
       "<style scoped>\n",
       "    .dataframe tbody tr th:only-of-type {\n",
       "        vertical-align: middle;\n",
       "    }\n",
       "\n",
       "    .dataframe tbody tr th {\n",
       "        vertical-align: top;\n",
       "    }\n",
       "\n",
       "    .dataframe thead th {\n",
       "        text-align: right;\n",
       "    }\n",
       "</style>\n",
       "<table border=\"1\" class=\"dataframe\">\n",
       "  <thead>\n",
       "    <tr style=\"text-align: right;\">\n",
       "      <th></th>\n",
       "      <th>actual</th>\n",
       "      <th>predicted</th>\n",
       "    </tr>\n",
       "  </thead>\n",
       "  <tbody>\n",
       "    <tr>\n",
       "      <th>0</th>\n",
       "      <td>167.630005</td>\n",
       "      <td>161.774582</td>\n",
       "    </tr>\n",
       "    <tr>\n",
       "      <th>1</th>\n",
       "      <td>166.649994</td>\n",
       "      <td>161.675659</td>\n",
       "    </tr>\n",
       "    <tr>\n",
       "      <th>2</th>\n",
       "      <td>165.020004</td>\n",
       "      <td>161.501984</td>\n",
       "    </tr>\n",
       "  </tbody>\n",
       "</table>\n",
       "</div>"
      ],
      "text/plain": [
       "       actual   predicted\n",
       "0  167.630005  161.774582\n",
       "1  166.649994  161.675659\n",
       "2  165.020004  161.501984"
      ]
     },
     "execution_count": 37,
     "metadata": {},
     "output_type": "execute_result"
    }
   ],
   "source": [
    "comparison = pd.DataFrame()\n",
    "\n",
    "comparison['actual'] = scaler.inverse_transform([test_target]).flatten()\n",
    "comparison['predicted'] = scaler.inverse_transform(y_pred).flatten()\n",
    "\n",
    "comparison"
   ]
  },
  {
   "cell_type": "code",
   "execution_count": 38,
   "id": "f4e80b09",
   "metadata": {},
   "outputs": [
    {
     "data": {
      "text/plain": [
       "23.80215123743996"
      ]
     },
     "execution_count": 38,
     "metadata": {},
     "output_type": "execute_result"
    }
   ],
   "source": [
    "mean_squared_error(comparison['actual'], comparison['predicted'])"
   ]
  },
  {
   "cell_type": "code",
   "execution_count": 39,
   "id": "969d78d8",
   "metadata": {},
   "outputs": [
    {
     "data": {
      "image/png": "[encoded data removed]",
      "text/plain": [
       "<Figure size 640x480 with 1 Axes>"
      ]
     },
     "metadata": {},
     "output_type": "display_data"
    }
   ],
   "source": [
    "plt.plot(comparison['actual'], label = 'actual')\n",
    "plt.plot(comparison['predicted'], label = 'predicted')\n",
    "\n",
    "plt.legend()\n",
    "\n",
    "plt.show()"
   ]
  },
  {
   "cell_type": "markdown",
   "id": "2ec4d130",
   "metadata": {},
   "source": [
    "# Conv1D"
   ]
  },
  {
   "cell_type": "code",
   "execution_count": 40,
   "id": "449146b5",
   "metadata": {
    "scrolled": true
   },
   "outputs": [],
   "source": [
    "model = keras.models.Sequential([\n",
    "    keras.layers.Conv1D(filters=20, kernel_size=3, strides=1, padding=\"same\", input_shape=[1, 1]),\n",
    "    keras.layers.GRU(32, activation='relu', return_sequences=True),\n",
    "    keras.layers.GRU(32, activation='relu', return_sequences=False),\n",
    "    keras.layers.Dense(1, activation=None)\n",
    "])"
   ]
  },
  {
   "cell_type": "code",
   "execution_count": 41,
   "id": "37ab6fdb",
   "metadata": {},
   "outputs": [
    {
     "name": "stdout",
     "output_type": "stream",
     "text": [
      "Epoch 1/30\n",
      "1/1 [==============================] - 10s 10s/step - loss: 0.3627\n",
      "Epoch 2/30\n",
      "1/1 [==============================] - 0s 63ms/step - loss: 0.3576\n",
      "Epoch 3/30\n",
      "1/1 [==============================] - 0s 17ms/step - loss: 0.3528\n",
      "Epoch 4/30\n",
      "1/1 [==============================] - 0s 35ms/step - loss: 0.3481\n",
      "Epoch 5/30\n",
      "1/1 [==============================] - 0s 55ms/step - loss: 0.3433\n",
      "Epoch 6/30\n",
      "1/1 [==============================] - 0s 50ms/step - loss: 0.3385\n",
      "Epoch 7/30\n",
      "1/1 [==============================] - 0s 18ms/step - loss: 0.3338\n",
      "Epoch 8/30\n",
      "1/1 [==============================] - 0s 42ms/step - loss: 0.3290\n",
      "Epoch 9/30\n",
      "1/1 [==============================] - 0s 53ms/step - loss: 0.3242\n",
      "Epoch 10/30\n",
      "1/1 [==============================] - 0s 33ms/step - loss: 0.3193\n",
      "Epoch 11/30\n",
      "1/1 [==============================] - 0s 48ms/step - loss: 0.3144\n",
      "Epoch 12/30\n",
      "1/1 [==============================] - 0s 20ms/step - loss: 0.3094\n",
      "Epoch 13/30\n",
      "1/1 [==============================] - 0s 51ms/step - loss: 0.3044\n",
      "Epoch 14/30\n",
      "1/1 [==============================] - 0s 51ms/step - loss: 0.2995\n",
      "Epoch 15/30\n",
      "1/1 [==============================] - 0s 60ms/step - loss: 0.2944\n",
      "Epoch 16/30\n",
      "1/1 [==============================] - 0s 55ms/step - loss: 0.2888\n",
      "Epoch 17/30\n",
      "1/1 [==============================] - 0s 33ms/step - loss: 0.2831\n",
      "Epoch 18/30\n",
      "1/1 [==============================] - 0s 25ms/step - loss: 0.2773\n",
      "Epoch 19/30\n",
      "1/1 [==============================] - 0s 25ms/step - loss: 0.2713\n",
      "Epoch 20/30\n",
      "1/1 [==============================] - 0s 24ms/step - loss: 0.2649\n",
      "Epoch 21/30\n",
      "1/1 [==============================] - 0s 44ms/step - loss: 0.2582\n",
      "Epoch 22/30\n",
      "1/1 [==============================] - 0s 50ms/step - loss: 0.2514\n",
      "Epoch 23/30\n",
      "1/1 [==============================] - 0s 20ms/step - loss: 0.2445\n",
      "Epoch 24/30\n",
      "1/1 [==============================] - 0s 42ms/step - loss: 0.2375\n",
      "Epoch 25/30\n",
      "1/1 [==============================] - 0s 44ms/step - loss: 0.2303\n",
      "Epoch 26/30\n",
      "1/1 [==============================] - 0s 49ms/step - loss: 0.2230\n",
      "Epoch 27/30\n",
      "1/1 [==============================] - 0s 19ms/step - loss: 0.2156\n",
      "Epoch 28/30\n",
      "1/1 [==============================] - 0s 20ms/step - loss: 0.2082\n",
      "Epoch 29/30\n",
      "1/1 [==============================] - 0s 48ms/step - loss: 0.2007\n",
      "Epoch 30/30\n",
      "1/1 [==============================] - 0s 43ms/step - loss: 0.1931\n"
     ]
    }
   ],
   "source": [
    "np.random.seed(1)\n",
    "tf.random.set_seed(1)\n",
    "\n",
    "model.compile(loss=\"mse\", optimizer='Adam')\n",
    "\n",
    "history = model.fit(train_x, train_target, epochs=30)"
   ]
  },
  {
   "cell_type": "code",
   "execution_count": 42,
   "id": "44f02ab6",
   "metadata": {},
   "outputs": [
    {
     "name": "stdout",
     "output_type": "stream",
     "text": [
      "1/1 [==============================] - 1s 1s/step\n"
     ]
    }
   ],
   "source": [
    "#Predict:\n",
    "y_pred = model.predict(test_x)"
   ]
  },
  {
   "cell_type": "code",
   "execution_count": 43,
   "id": "f85106d0",
   "metadata": {},
   "outputs": [
    {
     "data": {
      "text/html": [
       "<div>\n",
       "<style scoped>\n",
       "    .dataframe tbody tr th:only-of-type {\n",
       "        vertical-align: middle;\n",
       "    }\n",
       "\n",
       "    .dataframe tbody tr th {\n",
       "        vertical-align: top;\n",
       "    }\n",
       "\n",
       "    .dataframe thead th {\n",
       "        text-align: right;\n",
       "    }\n",
       "</style>\n",
       "<table border=\"1\" class=\"dataframe\">\n",
       "  <thead>\n",
       "    <tr style=\"text-align: right;\">\n",
       "      <th></th>\n",
       "      <th>actual</th>\n",
       "      <th>predicted</th>\n",
       "    </tr>\n",
       "  </thead>\n",
       "  <tbody>\n",
       "    <tr>\n",
       "      <th>0</th>\n",
       "      <td>167.630005</td>\n",
       "      <td>161.936157</td>\n",
       "    </tr>\n",
       "    <tr>\n",
       "      <th>1</th>\n",
       "      <td>166.649994</td>\n",
       "      <td>161.824997</td>\n",
       "    </tr>\n",
       "    <tr>\n",
       "      <th>2</th>\n",
       "      <td>165.020004</td>\n",
       "      <td>161.630310</td>\n",
       "    </tr>\n",
       "  </tbody>\n",
       "</table>\n",
       "</div>"
      ],
      "text/plain": [
       "       actual   predicted\n",
       "0  167.630005  161.936157\n",
       "1  166.649994  161.824997\n",
       "2  165.020004  161.630310"
      ]
     },
     "execution_count": 43,
     "metadata": {},
     "output_type": "execute_result"
    }
   ],
   "source": [
    "comparison = pd.DataFrame()\n",
    "\n",
    "comparison['actual'] = scaler.inverse_transform([test_target]).flatten()\n",
    "comparison['predicted'] = scaler.inverse_transform(y_pred).flatten()\n",
    "comparison"
   ]
  },
  {
   "cell_type": "code",
   "execution_count": 44,
   "id": "db1dbe8d",
   "metadata": {},
   "outputs": [
    {
     "data": {
      "text/plain": [
       "22.396841344319018"
      ]
     },
     "execution_count": 44,
     "metadata": {},
     "output_type": "execute_result"
    }
   ],
   "source": [
    "mean_squared_error(comparison['actual'], comparison['predicted'])"
   ]
  },
  {
   "cell_type": "markdown",
   "id": "4b6b65d5",
   "metadata": {},
   "source": [
    "### Discussion"
   ]
  },
  {
   "cell_type": "markdown",
   "id": "c0e54c77",
   "metadata": {},
   "source": [
    "MSE calculates the average squared difference between predicted and actual values, with lower values indicating greater accuracy in the model. \n",
    "In predicting stock prices, a lower MSE implies that the model is more adept at identifying and capturing the fundamental patterns and trends within the data.\n",
    "\n",
    "Among the four model RNN has highest MSE value of 37.794, Conv1D has MSE score of 31.12, LSTM has a score of 29.924 and GRU has a the lowest score of 19.499.\n",
    "The predicted scores for GRU were also best and most accurate compared to other models. Hence, using GRU to predict stock values for this dataset would be the best option."
   ]
  },
  {
   "cell_type": "code",
   "execution_count": 165,
   "id": "9f111480",
   "metadata": {},
   "outputs": [
    {
     "data": {
      "image/png": "[encoded data removed]",
      "text/plain": [
       "<Figure size 640x480 with 1 Axes>"
      ]
     },
     "metadata": {},
     "output_type": "display_data"
    }
   ],
   "source": [
    "plt.plot(comparison['actual'], label = 'actual')\n",
    "plt.plot(comparison['predicted'], label = 'predicted')\n",
    "\n",
    "plt.legend()\n",
    "\n",
    "plt.show()"
   ]
  },
  {
   "cell_type": "code",
   "execution_count": null,
   "id": "4edfb3d4",
   "metadata": {},
   "outputs": [],
   "source": []
  }
 ],
 "metadata": {
  "kernelspec": {
   "display_name": "Python 3 (ipykernel)",
   "language": "python",
   "name": "python3"
  },
  "language_info": {
   "codemirror_mode": {
    "name": "ipython",
    "version": 3
   },
   "file_extension": ".py",
   "mimetype": "text/x-python",
   "name": "python",
   "nbconvert_exporter": "python",
   "pygments_lexer": "ipython3",
   "version": "3.10.10"
  }
 },
 "nbformat": 4,
 "nbformat_minor": 5
}
